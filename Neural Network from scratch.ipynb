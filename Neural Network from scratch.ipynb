{
 "cells": [
  {
   "cell_type": "code",
   "execution_count": 26,
   "metadata": {},
   "outputs": [
    {
     "data": {
      "image/png": "[encoded data removed]",
      "text/plain": [
       "<Figure size 432x288 with 1 Axes>"
      ]
     },
     "metadata": {},
     "output_type": "display_data"
    },
    {
     "data": {
      "image/png": "[encoded data removed]",
      "text/plain": [
       "<Figure size 432x288 with 1 Axes>"
      ]
     },
     "metadata": {},
     "output_type": "display_data"
    },
    {
     "data": {
      "image/png": "[encoded data removed]",
      "text/plain": [
       "<Figure size 432x288 with 1 Axes>"
      ]
     },
     "metadata": {},
     "output_type": "display_data"
    },
    {
     "data": {
      "image/png": "[encoded data removed]",
      "text/plain": [
       "<Figure size 432x288 with 1 Axes>"
      ]
     },
     "metadata": {},
     "output_type": "display_data"
    }
   ],
   "source": [
    "import numpy as np #core network algo\n",
    "import matplotlib.pyplot as plt #for plotting\n",
    "from scipy.stats import truncnorm\n",
    "\n",
    "samples = 1200\n",
    "low = -1\n",
    "high = 0\n",
    "\n",
    "s = np.random.uniform(low, high, samples)\n",
    "plt.hist(s)\n",
    "plt.text(-0.6,80, \"uniform distribution\")\n",
    "plt.show()\n",
    "\n",
    "s = np.random.binomial(100,0.5,1200)\n",
    "plt.hist(s)\n",
    "plt.text(52.5,200, \"binomial distribution\")\n",
    "plt.show()\n",
    "\n",
    "s = truncnorm(a=-2/3., b=2/3., scale=1, loc=0).rvs(size = 1200)\n",
    "plt.hist(s)\n",
    "plt.text(-0.6,80, \"truncnorm distribution\")\n",
    "plt.show()\n",
    "\n",
    "def truncated_normal(mean= 0, sd= 1, low= 0, upp= 10):\n",
    "    return truncnorm(\n",
    "    (low-mean)/sd, (upp-mean)/sd, loc=mean, scale = sd\n",
    "    )\n",
    "X = truncated_normal(mean= 0, sd= 0.4, low= -0.5, upp= 0.5)\n",
    "s = X.rvs(10000)\n",
    "plt.hist(s)\n",
    "plt.text(0,80, \"truncated_normal distribution\")\n",
    "plt.show()"
   ]
  },
  {
   "cell_type": "code",
   "execution_count": 25,
   "metadata": {},
   "outputs": [
    {
     "name": "stdout",
     "output_type": "stream",
     "text": [
      "(60000, 28, 28) (60000,)\n",
      "(10000, 28, 28) (10000,)\n"
     ]
    }
   ],
   "source": [
    "from keras.datasets import mnist\n",
    "(train_images, train_labels), (test_images, test_labels) = mnist.load_data()\n",
    "print(train_images.shape, train_labels.shape)\n",
    "print(test_images.shape, test_labels.shape)"
   ]
  },
  {
   "cell_type": "code",
   "execution_count": 32,
   "metadata": {},
   "outputs": [
    {
     "name": "stdout",
     "output_type": "stream",
     "text": [
      "(512, 784)\n"
     ]
    }
   ],
   "source": [
    "##input matrix\n",
    "\n",
    "no_of_input_nodes = train_images.shape[1]*train_images.shape[2]\n",
    "no_of_hidden_nodes = 512\n",
    "rad = 1/np.sqrt(no_of_input_nodes)\n",
    "X = truncated_normal(mean= 2, sd= 1, low= -rad, upp= rad)\n",
    "wih = X.rvs((no_of_hidden_nodes,no_of_input_nodes))\n",
    "#wih = X.rvs(no_of_hidden_nodes)\n",
    "print(wih.shape)"
   ]
  },
  {
   "cell_type": "code",
   "execution_count": 37,
   "metadata": {},
   "outputs": [
    {
     "name": "stdout",
     "output_type": "stream",
     "text": [
      "(10, 512)\n"
     ]
    }
   ],
   "source": [
    "## output matrix\n",
    "\n",
    "no_of_output_nodes = len(list(set(train_labels)))\n",
    "rad = 1/np.sqrt(no_of_hidden_nodes)\n",
    "X = truncated_normal(mean= 2, sd= 1, low= -rad, upp= rad)\n",
    "who = X.rvs((no_of_output_nodes,no_of_hidden_nodes))"
   ]
  },
  {
   "cell_type": "code",
   "execution_count": 53,
   "metadata": {},
   "outputs": [
    {
     "name": "stdout",
     "output_type": "stream",
     "text": [
      "[[0.33569656]\n",
      " [0.54814179]]\n"
     ]
    }
   ],
   "source": [
    "## defining class\n",
    "from scipy.special import expit as activation_function\n",
    "\n",
    "class NeuralNetwork:\n",
    "    \n",
    "\n",
    "    \n",
    "    def __init__(self,\n",
    "                no_of_input_nodes,\n",
    "                no_of_output_nodes,\n",
    "                no_of_hidden_nodes,\n",
    "                learning_rate):\n",
    "        self.no_of_input_nodes = no_of_input_nodes\n",
    "        self.no_of_output_nodes = no_of_output_nodes\n",
    "        self.no_of_hidden_nodes = no_of_hidden_nodes\n",
    "        self.learning_rate = learning_rate\n",
    "        self.create_weight_matrices()\n",
    "        \n",
    "    def create_weight_matrices(self):\n",
    "        rad = 1/np.sqrt(self.no_of_input_nodes)\n",
    "        X = truncated_normal(mean= 0, sd= 1, low= -rad, upp= rad)\n",
    "        self.weights_input_hidden = X.rvs((self.no_of_hidden_nodes, self.no_of_input_nodes))\n",
    "        \n",
    "        rad = 1/np.sqrt(self.no_of_input_nodes)\n",
    "        X = truncated_normal(mean= 0, sd= 1, low= -rad, upp= rad)\n",
    "        self.weights_hidden_output = X.rvs((self.no_of_output_nodes, self.no_of_hidden_nodes))\n",
    "    \n",
    "    def truncated_normal(mean= 0, sd= 1, low= 0, upp= 10):\n",
    "        return truncnorm(\n",
    "        (low-mean)/sd, (upp-mean)/sd, loc=mean, scale = sd\n",
    "    )\n",
    "    \n",
    "    def train(self, input_vector, target_vector):\n",
    "        input_vector = np.array(input_vector, ndmin=2).T\n",
    "        target_vector = np.array(target_vector, ndmin=2).T\n",
    "        output_vector1 = np.dot(self.weights_input_hidden, input_vector)\n",
    "        output_vector_hidden = activation_function(output_vector1)\n",
    "        output_vector2 = np.dot(self.weights_hidden_output, output_vector_hidden)\n",
    "        output_vector_network = activation_function(output_vector2)\n",
    "        \n",
    "        output_error = target_vector - output_vector_network\n",
    "        \n",
    "        tmp = output_error * output_vector_network * (1.0 - output_vector_network)\n",
    "        tmp = self.learning_rate * np.dot(tmp, output_vector_hidden.T)\n",
    "        self.weights_hidden_output += tmp\n",
    "        \n",
    "        hidden_errors = np.dot(self.weights_hidden_output.T, output_error)\n",
    "        tmp = hidden_errors * output_vector_hidden * (1.0 - output_vector_hidden)\n",
    "        self.weights_input_hidden += self.learning_rate * np.dot(tmp, input_vector.T)\n",
    "        \n",
    "    \n",
    "    def run(self, input_vector):\n",
    "        input_vector = np.array(input_vector, ndmin=2).T\n",
    "        output_vector = np.dot(self.weights_input_hidden, input_vector)\n",
    "        output_vector = activation_function(output_vector)\n",
    "        \n",
    "        output_vector = np.dot(self.weights_hidden_output, output_vector)\n",
    "        output_vector = activation_function(output_vector)\n",
    "        \n",
    "        return output_vector\n",
    "    \n",
    "if __name__ == \"__main__\":\n",
    "    simple_network = NeuralNetwork(2, 2, 10, 0.6)\n",
    "    print(simple_network.run([(3,4)]))\n"
   ]
  },
  {
   "cell_type": "markdown",
   "metadata": {},
   "source": [
    "https://www.python-course.eu/neural_networks_with_python_numpy.php"
   ]
  }
 ],
 "metadata": {
  "kernelspec": {
   "display_name": "tensorflow",
   "language": "python",
   "name": "tensorflow"
  },
  "language_info": {
   "codemirror_mode": {
    "name": "ipython",
    "version": 3
   },
   "file_extension": ".py",
   "mimetype": "text/x-python",
   "name": "python",
   "nbconvert_exporter": "python",
   "pygments_lexer": "ipython3",
   "version": "3.5.5"
  }
 },
 "nbformat": 4,
 "nbformat_minor": 2
}
